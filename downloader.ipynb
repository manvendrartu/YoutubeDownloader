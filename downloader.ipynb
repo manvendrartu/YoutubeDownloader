{
 "cells": [
  {
   "cell_type": "code",
   "execution_count": 1,
   "id": "d0f4cae0",
   "metadata": {},
   "outputs": [
    {
     "name": "stderr",
     "output_type": "stream",
     "text": [
      "\r",
      "  0%|                                                                                           | 0/39 [00:00<?, ?it/s]"
     ]
    },
    {
     "name": "stdout",
     "output_type": "stream",
     "text": [
      "Number of downloadable videos in playlist: 39\n"
     ]
    },
    {
     "name": "stderr",
     "output_type": "stream",
     "text": [
      "100%|██████████████████████████████████████████████████████████████████████████████████| 39/39 [29:44<00:00, 45.77s/it]\n"
     ]
    }
   ],
   "source": [
    "from pytube import Playlist\n",
    "from tqdm import tqdm\n",
    "import os\n",
    "\n",
    "if os.path.isdir('./videos') == False:\n",
    "    os.mkdir('./videos')\n",
    "\n",
    "def plalist_downloader():\n",
    "    playlist = Playlist('https://www.youtube.com/watch?v=400cMK1keio&list=PLYeAQ6S0XJSthTmNPEK1Ba2NnawGctpXJ')\n",
    "    print('Number of downloadable videos in playlist: %s' % len(playlist.video_urls))\n",
    "\n",
    "    for video in tqdm(playlist.videos):\n",
    "        video.streams.first().download('./videos/')"
   ]
  },
  {
   "cell_type": "code",
   "execution_count": 21,
   "id": "d77b55f8",
   "metadata": {},
   "outputs": [
    {
     "name": "stdout",
     "output_type": "stream",
     "text": [
      "\n",
      "\n"
     ]
    }
   ],
   "source": [
    "from tkinter import *\n",
    "from tkinter import ttk\n",
    "\n",
    "class videoDownloader:\n",
    "    def __init__(self, master):\n",
    "        self.master = master\n",
    "        master.title(\"Youtube Video Downloader\")\n",
    "        self.link      = None\n",
    "        self.folderLoc = None\n",
    "        \n",
    "        self.tabs = ttk.Notebook(master)\n",
    "        self.tabs.pack(fill=BOTH, expand=TRUE)\n",
    "        self.frame1 = ttk.Frame(self.tabs)\n",
    "        self.frame2 = ttk.Frame(self.tabs)\n",
    "        self.tabs.add(self.frame1, text=\"Video Downloader\")\n",
    "        self.tabs.add(self.frame2, text=\"Playlist Downloader\")\n",
    "        \n",
    "        name_label = tk.Label(root, text = 'Please copy the link', font=('calibre',10, 'bold')).pack()\n",
    "        self.address=tk.Entry(self.frame1, textvariable = name_var, font = ('calibre',10,'normal'), show = '*').pack()\n",
    "    \n",
    "        self.label = Label(master, text=\"This product is owned by Manvendra Singh\")\n",
    "        self.label.pack()\n",
    "\n",
    "        self.greet_button = Button(self.frame1, text=\"Greet\", command=self.greet)\n",
    "        self.greet_button.pack()\n",
    "\n",
    "        self.close_button = Button(self.frame2, text=\"Close\", command=master.quit)\n",
    "        self.close_button.pack()\n",
    "\n",
    "    def greet(self):\n",
    "        print(name_var.get())\n",
    "\n",
    "root = Tk()\n",
    "root.geometry(\"%dx%d\" % (300, 300))\n",
    "my_gui = videoDownloader(root)\n",
    "root.mainloop()"
   ]
  },
  {
   "cell_type": "code",
   "execution_count": 3,
   "id": "829d5369",
   "metadata": {},
   "outputs": [
    {
     "name": "stdout",
     "output_type": "stream",
     "text": [
      "The name is : dasafsdf\n",
      "The password is : asdfas\n"
     ]
    }
   ],
   "source": [
    "import tkinter as tk\n",
    "  \n",
    "root=tk.Tk()\n",
    " \n",
    "# setting the windows size\n",
    "root.geometry(\"600x400\")\n",
    "  \n",
    "# declaring string variable\n",
    "# for storing name and password\n",
    "name_var=tk.StringVar()\n",
    "passw_var=tk.StringVar()\n",
    " \n",
    "# defining a function that will\n",
    "# get the name and password and\n",
    "# print them on the screen\n",
    "def submit():\n",
    " \n",
    "    name=name_var.get()\n",
    "    password=passw_var.get()\n",
    "     \n",
    "    print(\"The name is : \" + name)\n",
    "    print(\"The password is : \" + password)\n",
    "     \n",
    "    name_var.set(\"\")\n",
    "    passw_var.set(\"\")\n",
    "     \n",
    "# creating a label for\n",
    "# name using widget Label\n",
    "name_label = tk.Label(root, text = 'Username', font=('calibre',10, 'bold'))\n",
    "  \n",
    "# creating a entry for input\n",
    "# name using widget Entry\n",
    "name_entry = tk.Entry(root,textvariable = name_var, font=('calibre',10,'normal'))\n",
    "  \n",
    "# creating a label for password\n",
    "passw_label = tk.Label(root, text = 'Password', font = ('calibre',10,'bold'))\n",
    "  \n",
    "# creating a entry for password\n",
    "passw_entry=tk.Entry(root, textvariable = passw_var, font = ('calibre',10,'normal'), show = '*')\n",
    "  \n",
    "# creating a button using the widget\n",
    "# Button that will call the submit function\n",
    "sub_btn=tk.Button(root,text = 'Submit', command = submit)\n",
    "  \n",
    "# placing the label and entry in\n",
    "# the required position using grid\n",
    "# method\n",
    "name_label.grid(row=0,column=0)\n",
    "name_entry.grid(row=0,column=1)\n",
    "passw_label.grid(row=1,column=0)\n",
    "passw_entry.grid(row=1,column=1)\n",
    "sub_btn.grid(row=2,column=1)\n",
    "  \n",
    "# performing an infinite loop\n",
    "# for the window to display\n",
    "root.mainloop()"
   ]
  }
 ],
 "metadata": {
  "kernelspec": {
   "display_name": "Python 3",
   "language": "python",
   "name": "python3"
  },
  "language_info": {
   "codemirror_mode": {
    "name": "ipython",
    "version": 3
   },
   "file_extension": ".py",
   "mimetype": "text/x-python",
   "name": "python",
   "nbconvert_exporter": "python",
   "pygments_lexer": "ipython3",
   "version": "3.7.9"
  }
 },
 "nbformat": 4,
 "nbformat_minor": 5
}
